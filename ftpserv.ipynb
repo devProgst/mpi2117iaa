{
 "cells": [
  {
   "cell_type": "code",
   "execution_count": null,
   "metadata": {},
   "outputs": [],
   "source": [
    "import os\n",
    "\n",
    "from pyftpdlib.authorizers import DummyAuthorizer\n",
    "from pyftpdlib.handlers import FTPHandler\n",
    "from pyftpdlib.servers import FTPServer"
   ]
  },
  {
   "cell_type": "code",
   "execution_count": null,
   "metadata": {},
   "outputs": [],
   "source": [
    "class MyHandler(FTPHandler):\n",
    "    def on_connect(self):\n",
    "        print \"%s:%s connected\" % (self.remote_ip, self.remote_port)\n",
    "\n",
    "    def on_file_received(self, file)\n",
    "        pass\n",
    "\n",
    "    def on_incomplete_file_received(self, file):\n",
    "        # remove partially uploaded files\n",
    "        import os\n",
    "        os.remove(file)"
   ]
  },
  {
   "cell_type": "code",
   "execution_count": 10,
   "metadata": {},
   "outputs": [
    {
     "ename": "",
     "evalue": "",
     "output_type": "error",
     "traceback": [
      "\u001b[1;31mПри выполнении кода в текущей ячейке или предыдущей ячейке ядро аварийно завершило работу. Проверьте код в ячейках, чтобы определить возможную причину сбоя. Щелкните <a href=\"https://aka.ms/vscodeJupyterKernelCrash\">здесь</a> для получения дополнительных сведений. Подробнее см. в <a href='command:jupyter.viewOutput'>журнале Jupyter</a>."
     ]
    }
   ],
   "source": [
    "\n",
    "def custom():\n",
    "    print(\"CONTENT:\")\n",
    "\n",
    "authorizer = DummyAuthorizer()\n",
    "authorizer.add_anonymous(os.getcwd(), perm='elradfmwMT')\n",
    "handler = MyHandler\n",
    "handler.authorizer = authorizer\n",
    "server = FTPServer(('', 2124), handler)\n",
    "server.max_cons = 2\n",
    "server.max_cons_per_ip = 5\n",
    "server.serve_forever()"
   ]
  },
  {
   "cell_type": "code",
   "execution_count": null,
   "metadata": {},
   "outputs": [],
   "source": []
  },
  {
   "cell_type": "code",
   "execution_count": null,
   "metadata": {},
   "outputs": [],
   "source": []
  },
  {
   "cell_type": "code",
   "execution_count": null,
   "metadata": {},
   "outputs": [],
   "source": []
  }
 ],
 "metadata": {
  "kernelspec": {
   "display_name": "Python 3",
   "language": "python",
   "name": "python3"
  },
  "language_info": {
   "codemirror_mode": {
    "name": "ipython",
    "version": 3
   },
   "file_extension": ".py",
   "mimetype": "text/x-python",
   "name": "python",
   "nbconvert_exporter": "python",
   "pygments_lexer": "ipython3",
   "version": "3.9.13"
  },
  "orig_nbformat": 4,
  "vscode": {
   "interpreter": {
    "hash": "60d73b9a2627b35657651c0ae08e77139e5d0973f44e6590a9c63ef5feb42cbe"
   }
  }
 },
 "nbformat": 4,
 "nbformat_minor": 2
}
